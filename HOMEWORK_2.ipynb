{
  "nbformat": 4,
  "nbformat_minor": 0,
  "metadata": {
    "colab": {
      "provenance": [],
      "authorship_tag": "ABX9TyOieftBSi86U7qhPF4As0xm",
      "include_colab_link": true
    },
    "kernelspec": {
      "name": "python3",
      "display_name": "Python 3"
    },
    "language_info": {
      "name": "python"
    }
  },
  "cells": [
    {
      "cell_type": "markdown",
      "metadata": {
        "id": "view-in-github",
        "colab_type": "text"
      },
      "source": [
        "<a href=\"https://colab.research.google.com/github/sjadhav19/python/blob/main/HOMEWORK_2.ipynb\" target=\"_parent\"><img src=\"https://colab.research.google.com/assets/colab-badge.svg\" alt=\"Open In Colab\"/></a>"
      ]
    },
    {
      "cell_type": "code",
      "execution_count": 4,
      "metadata": {
        "colab": {
          "base_uri": "https://localhost:8080/"
        },
        "id": "vcjpkI3NmrrZ",
        "outputId": "e710fe19-28b0-4617-cd7b-6432a4ae03d4"
      },
      "outputs": [
        {
          "output_type": "stream",
          "name": "stdout",
          "text": [
            "1\n",
            "2\n",
            "3\n",
            "4\n",
            "5\n",
            "6\n",
            "7\n",
            "8\n",
            "9\n",
            "10\n",
            "11\n",
            "12\n",
            "13\n",
            "14\n",
            "15\n",
            "16\n",
            "17\n",
            "18\n",
            "19\n",
            "20\n",
            "21\n",
            "22\n",
            "23\n",
            "24\n",
            "25\n",
            "26\n",
            "27\n",
            "28\n",
            "29\n",
            "30\n",
            "31\n",
            "32\n",
            "33\n",
            "34\n",
            "35\n",
            "36\n",
            "37\n",
            "38\n",
            "39\n",
            "40\n",
            "41\n",
            "42\n",
            "43\n",
            "44\n",
            "45\n",
            "46\n",
            "47\n",
            "48\n",
            "49\n",
            "50\n",
            "51\n",
            "52\n",
            "53\n",
            "54\n",
            "55\n",
            "56\n",
            "57\n",
            "58\n",
            "59\n",
            "60\n",
            "61\n",
            "62\n",
            "63\n",
            "64\n",
            "65\n",
            "66\n",
            "67\n",
            "68\n",
            "69\n",
            "70\n",
            "71\n",
            "72\n",
            "73\n",
            "74\n",
            "75\n",
            "76\n",
            "77\n",
            "78\n",
            "79\n",
            "80\n",
            "81\n",
            "82\n",
            "83\n",
            "84\n",
            "85\n",
            "86\n",
            "87\n",
            "88\n",
            "89\n",
            "90\n",
            "91\n",
            "92\n",
            "93\n",
            "94\n",
            "95\n",
            "96\n",
            "97\n",
            "98\n",
            "99\n",
            "100\n"
          ]
        }
      ],
      "source": [
        "\n",
        "for i in range(1, 101):                          # Using a loop to print numbers from 1 to 100\n",
        "    print(i)                                     # SURAJ JADHAV Q1\n",
        "\n"
      ]
    },
    {
      "cell_type": "code",
      "source": [
        "def print_numbers_recursive(n):                  # Using recursion to print numbers from 1 to 100\n",
        "    if n <= 100:                                 # SURAJ JADHAV Q1\n",
        "        print(n)\n",
        "        print_numbers_recursive(n + 1)           # a recursive call with n + 1 as the argument\n",
        "\n",
        "print_numbers_recursive(1)"
      ],
      "metadata": {
        "colab": {
          "base_uri": "https://localhost:8080/"
        },
        "id": "nrTu-mIUoNmj",
        "outputId": "01837a2a-059e-4cae-f394-ffeb4ada254f"
      },
      "execution_count": 5,
      "outputs": [
        {
          "output_type": "stream",
          "name": "stdout",
          "text": [
            "1\n",
            "2\n",
            "3\n",
            "4\n",
            "5\n",
            "6\n",
            "7\n",
            "8\n",
            "9\n",
            "10\n",
            "11\n",
            "12\n",
            "13\n",
            "14\n",
            "15\n",
            "16\n",
            "17\n",
            "18\n",
            "19\n",
            "20\n",
            "21\n",
            "22\n",
            "23\n",
            "24\n",
            "25\n",
            "26\n",
            "27\n",
            "28\n",
            "29\n",
            "30\n",
            "31\n",
            "32\n",
            "33\n",
            "34\n",
            "35\n",
            "36\n",
            "37\n",
            "38\n",
            "39\n",
            "40\n",
            "41\n",
            "42\n",
            "43\n",
            "44\n",
            "45\n",
            "46\n",
            "47\n",
            "48\n",
            "49\n",
            "50\n",
            "51\n",
            "52\n",
            "53\n",
            "54\n",
            "55\n",
            "56\n",
            "57\n",
            "58\n",
            "59\n",
            "60\n",
            "61\n",
            "62\n",
            "63\n",
            "64\n",
            "65\n",
            "66\n",
            "67\n",
            "68\n",
            "69\n",
            "70\n",
            "71\n",
            "72\n",
            "73\n",
            "74\n",
            "75\n",
            "76\n",
            "77\n",
            "78\n",
            "79\n",
            "80\n",
            "81\n",
            "82\n",
            "83\n",
            "84\n",
            "85\n",
            "86\n",
            "87\n",
            "88\n",
            "89\n",
            "90\n",
            "91\n",
            "92\n",
            "93\n",
            "94\n",
            "95\n",
            "96\n",
            "97\n",
            "98\n",
            "99\n",
            "100\n"
          ]
        }
      ]
    },
    {
      "cell_type": "code",
      "source": [
        "my_string = \"I enjoy learning at Lamar. \\nLamar is a good place to learn. \\nI've been learning in Lamar for 2 semesters now.\" #\\n starts on new line\n",
        "print(my_string.replace(\"Lamar\",\"Lamar University\"))            #replace with Lamar University                                # SURAJ JADHAV Q2\n"
      ],
      "metadata": {
        "colab": {
          "base_uri": "https://localhost:8080/"
        },
        "id": "n3DzwMaVpNvJ",
        "outputId": "4c3db877-8e30-4a28-9aad-3ff288312431"
      },
      "execution_count": 12,
      "outputs": [
        {
          "output_type": "stream",
          "name": "stdout",
          "text": [
            "I enjoy learning at Lamar University. \n",
            "Lamar University is a good place to learn. \n",
            "I've been learning in Lamar University for 2 semesters now.\n"
          ]
        }
      ]
    },
    {
      "cell_type": "code",
      "source": [
        "import random\n",
        "from functools import reduce                                 # from functools module imported reduce function\n",
        "\n",
        "random_numbers = [random.uniform(0, 1) for _ in range(50)]   # Generate list of 50 random numbers between 0 and 1\n",
        "\n",
        "minimum = maximum = random_numbers[0]                        # Initialize variables for minimum and maximum\n",
        "\n",
        "sum_of_numbers = 0                                           # Initialize a variable for the sum\n",
        "\n",
        "for number in random_numbers:                                # Find minimum, maximum, and sum using loops\n",
        "    if number < minimum:\n",
        "        minimum = number\n",
        "    if number > maximum:                                     #SURAJ JADHAV Q3\n",
        "\n",
        "        maximum = number\n",
        "    sum_of_numbers += number\n",
        "\n",
        "sum_with_reduce = reduce(lambda x, y: x + y, random_numbers)  # Using reduce function  #used lambda function takes two arguments x and y & returns their sum\n",
        "\n",
        "print(\"List of random numbers:\", random_numbers)\n",
        "print(\"Minimum:\", minimum)\n",
        "print(\"Maximum:\", maximum)\n",
        "print(\"Sum (using loops):\", sum_of_numbers)\n",
        "print(\"Sum (using reduce):\", sum_with_reduce)\n"
      ],
      "metadata": {
        "colab": {
          "base_uri": "https://localhost:8080/"
        },
        "id": "U5lw_piLqsDy",
        "outputId": "2da9a2cf-b0a8-46c9-f3a3-e2995e61e982"
      },
      "execution_count": 15,
      "outputs": [
        {
          "output_type": "stream",
          "name": "stdout",
          "text": [
            "List of random numbers: [0.3608047029044653, 0.6561722996816346, 0.10941249176887669, 0.007583359763330022, 0.2867417256460798, 0.7565518540860836, 0.5795736437704868, 0.6610820213346335, 0.30004531108109445, 0.19087741642261968, 0.05683215318772794, 0.43970703261823985, 0.9772233151919429, 0.2721437291904385, 0.5188689223308284, 0.6806791646215402, 0.29182954437433895, 0.5767645678421222, 0.7207045335718514, 0.07009392314063245, 0.16891672519389545, 0.34770734686174476, 0.030180070993412467, 0.7904200727721814, 0.446884218210575, 0.8356605721823981, 0.9812810349465437, 0.00398641715301995, 0.5417952457192423, 0.1584804002591711, 0.5240244692140785, 0.8520577391784145, 0.4936827780196982, 0.20264444340694798, 0.7336298686241799, 0.03881299850102582, 0.4502211129330861, 0.36548839626019836, 0.05610061772233377, 0.017016563467256884, 0.5324544865540501, 0.7620480984190454, 0.38898973129108605, 0.3893531969005479, 0.410497171711126, 0.5148282575819061, 0.2569272402787932, 0.7123752612002325, 0.824676972302381, 0.9061771114718569]\n",
            "Minimum: 0.00398641715301995\n",
            "Maximum: 0.9812810349465437\n",
            "Sum (using loops): 22.251010331859398\n",
            "Sum (using reduce): 22.251010331859398\n"
          ]
        }
      ]
    },
    {
      "cell_type": "code",
      "source": [
        "my_names = [\"Suraj\", \"Jadhav\",\"Dell\",\"Joe\",\"Parker\"]\n",
        "names_with_j = [y for y in my_names if y[0] == \"J\"]\n",
        "print(names_with_j)\n",
        "                                                     #SURAJ JADHAV Q4\n"
      ],
      "metadata": {
        "colab": {
          "base_uri": "https://localhost:8080/"
        },
        "id": "m1VCIfYktX2F",
        "outputId": "124a61b0-09bd-4898-a079-d454243b334c"
      },
      "execution_count": 17,
      "outputs": [
        {
          "output_type": "stream",
          "name": "stdout",
          "text": [
            "['Jadhav', 'Joe']\n"
          ]
        }
      ]
    },
    {
      "cell_type": "code",
      "source": [
        "my_names = [\"Suraj\", \"Jadhav\",\"Dell\",\"Joe\",\"Parker\"]\n",
        "names_with_j = [y for y in my_names if y[0] == \"J\"]\n",
        "print(names_with_j)\n",
        "name_with_j_loop = []                               #Initialize an empty list to store the filtered names\n",
        "for my_string in my_names:\n",
        "  if my_string[0] == \"J\":                           #Accessing the first letter\n",
        "   name_with_j_loop.append(my_string)               #Appending list with words start with J\n",
        "print(name_with_j_loop)\n",
        "\n",
        "#Primary difference between list comprehension and a loop is readability,\n",
        "#conciseness, and the level of control you have over the filtering process.\n",
        "#List comprehension is often preferred for simple filtering tasks\n",
        "#while a loop provides more flexibility and control for complex scenarios."
      ],
      "metadata": {
        "colab": {
          "base_uri": "https://localhost:8080/"
        },
        "id": "VmZcF3GZtxvD",
        "outputId": "6f750e61-19e3-43ea-d501-c56485811ee0"
      },
      "execution_count": 30,
      "outputs": [
        {
          "output_type": "stream",
          "name": "stdout",
          "text": [
            "['Jadhav', 'Joe']\n",
            "['Jadhav', 'Joe']\n"
          ]
        }
      ]
    },
    {
      "cell_type": "code",
      "source": [
        "def square_number(x):\n",
        "    return x * x\n",
        "\n",
        "numbers = [1, 2, 3, 4, 5]                           #SURAJ JADHAV Q5\n",
        "\n",
        "squared_numbers = list(map(square_number, numbers)) #Used map to apply the square_number function to the list\n",
        "\n",
        "print(squared_numbers)\n"
      ],
      "metadata": {
        "colab": {
          "base_uri": "https://localhost:8080/"
        },
        "id": "SygG7ZLU0UdZ",
        "outputId": "fc2e7450-f6c2-491e-9c75-b9d2e3c35d73"
      },
      "execution_count": 33,
      "outputs": [
        {
          "output_type": "stream",
          "name": "stdout",
          "text": [
            "[1, 4, 9, 16, 25]\n"
          ]
        }
      ]
    },
    {
      "cell_type": "code",
      "source": [
        "def squared(x):\n",
        "     return x*x\n",
        "def dev(f, x, delta):                              #f - function x - position delta - difference\n",
        "                                                   #SURAJ JADHAV Q6\n",
        " point_a = f(x+delta/2)\n",
        " point_b = f(x-delta/2)\n",
        " return (point_a - point_b)/ delta\n",
        "print(dev(squared, 5, .001))"
      ],
      "metadata": {
        "colab": {
          "base_uri": "https://localhost:8080/"
        },
        "id": "DFlR4lKO3GHl",
        "outputId": "53913cf0-0e6e-4f4f-c121-a7c3ecba44cc"
      },
      "execution_count": 49,
      "outputs": [
        {
          "output_type": "stream",
          "name": "stdout",
          "text": [
            "9.999999999994458\n"
          ]
        }
      ]
    },
    {
      "cell_type": "code",
      "source": [
        "import numpy as np\n",
        "import matplotlib.pyplot as plt\n",
        "\n",
        "def trapezoid_integration(func, a, b, n):\n",
        "\n",
        "        #Perform numeric integration using the trapezoid rule\n",
        "        #Args:\n",
        "        #func: The function to be integrated.\n",
        "        #a: The start of the interval.\n",
        "        #b: The end of the interval. #n: The number of segments.  #Returns:#The approximate integral value\n",
        "    h = (b - a) / n\n",
        "    integral = 0.5 * (func(a) + func(b))\n",
        "    for i in range(1, n):\n",
        "        x_i = a + i * h\n",
        "        integral += func(x_i)\n",
        "    integral *= h\n",
        "    return integral\n",
        "def quadratic_function(x):\n",
        "    return x**2                    #SURAJ JADHAV Q7\n",
        "\n",
        "start = 0                          #Define the integration parameters\n",
        "end = 1\n",
        "num_segments = [2, 4, 8, 16, 32, 64]\n",
        "true_integral_value = 1/3          #Analytical integral value for x^2 from 0 to 1\n",
        "\n",
        "\n",
        "integral_values = []               #Calculate the integral and error for different numbers of segments\n",
        "errors = []\n",
        "\n",
        "for n in num_segments:\n",
        "    approx_integral = trapezoid_integration(quadratic_function, start, end, n)\n",
        "    error = abs(approx_integral - true_integral_value)\n",
        "    integral_values.append(approx_integral)\n",
        "    errors.append(error)\n",
        "\n",
        "plt.plot(num_segments, errors, marker='o')    # Plot the error vs. the number of segments\n",
        "plt.xlabel('Number of Segments')\n",
        "plt.ylabel('Error')\n",
        "plt.title('Error in Trapezoid Rule Integration for Quadratic Function')\n",
        "plt.grid(True)\n",
        "plt.show()\n"
      ],
      "metadata": {
        "colab": {
          "base_uri": "https://localhost:8080/",
          "height": 472
        },
        "id": "MV-KS_Ya48lz",
        "outputId": "99829307-dbad-4db2-db30-6c2ef05b82c4"
      },
      "execution_count": 53,
      "outputs": [
        {
          "output_type": "display_data",
          "data": {
            "text/plain": [
              "<Figure size 640x480 with 1 Axes>"
            ],
            "image/png": "[encoded data removed]"
          },
          "metadata": {}
        }
      ]
    },
    {
      "cell_type": "code",
      "source": [
        "class Transcript:\n",
        "  def __init__(self):\n",
        "    self.courses = []\n",
        "\n",
        "  def add_course(self, course, grade, semester):\n",
        "    self.courses.append({                #values added in function\n",
        "      \"course\": course,\n",
        "      \"grade\": grade,\n",
        "      \"semester\": semester\n",
        "    })\n",
        "\n",
        "  def compute_gpa(self):                 #function to calculate GPA\n",
        "    gpa = 0.0                            #Initialize GPA\n",
        "    for course in self.courses:\n",
        "      grade = course[\"grade\"]\n",
        "      if grade == \"A\":\n",
        "        gpa += 4.0                       #Adding points for A,B,C,D\n",
        "      elif grade == \"B\":\n",
        "        gpa += 3.0\n",
        "      elif grade == \"C\":\n",
        "        gpa += 2.0\n",
        "      elif grade == \"D\":\n",
        "        gpa += 1.0\n",
        "      else:\n",
        "        gpa += 0.0\n",
        "    gpa /= len(self.courses)             #formula for GPA\n",
        "    return gpa\n",
        "                                         #SURAJ JADHAV Q8\n",
        "transcript = Transcript()                #Create a new transcript\n",
        "\n",
        "transcript.add_course(\"Heuristics\", \"A\", \"Spring 2023\")    # Add graded courses\n",
        "transcript.add_course(\"Management\", \"A\", \"Spring2023\")\n",
        "transcript.add_course(\"CIM\", \"B\", \"Spring 2023\")\n",
        "\n",
        "gpa = transcript.compute_gpa() #Compute GPA\n",
        "print(\"GPA:\", gpa) # Print GPA\n",
        "\n"
      ],
      "metadata": {
        "colab": {
          "base_uri": "https://localhost:8080/"
        },
        "id": "-HjU1Zym89Ft",
        "outputId": "96dbba33-9978-4e08-b2b0-68ed500aaf8d"
      },
      "execution_count": 127,
      "outputs": [
        {
          "output_type": "stream",
          "name": "stdout",
          "text": [
            "GPA: 3.6666666666666665\n"
          ]
        }
      ]
    },
    {
      "cell_type": "code",
      "source": [
        "class Car(object):\n",
        "# First Constructor\n",
        "    def __init__(self, name, id):\n",
        "        self.name = name\n",
        "        self.id = id\n",
        "# Second constructor\n",
        "    def Display(self):\n",
        "       print(self.name, self.id)\n",
        "# Main\n",
        "obj = Car(\"Rolls Royce\", 18)  # An Object of Car\n",
        "obj2 = obj                    # Second object that inherits the first object functionality\n",
        "                              #SURAJ JADHAV Q9\n",
        "obj.Display()\n",
        "obj2.Display()"
      ],
      "metadata": {
        "colab": {
          "base_uri": "https://localhost:8080/"
        },
        "id": "4SjZyFZ9FKDI",
        "outputId": "e65851ef-19af-4a2b-c383-3c50bd8bac51"
      },
      "execution_count": 88,
      "outputs": [
        {
          "output_type": "stream",
          "name": "stdout",
          "text": [
            "Rolls Royce 18\n",
            "Rolls Royce 18\n"
          ]
        }
      ]
    },
    {
      "cell_type": "code",
      "source": [
        "import json\n",
        "x = \"\"\"{\"first_name\" : \"Suraj\", \"last_name\": \"Jadhav\", \"age\": 30}\"\"\"\n",
        "y = json.loads(x)\n",
        "print(y)                               #SURAJ JADHAV Q10\n",
        "print(\"first name = \", y[\"first_name\"], \"last name=\", y[\"last_name\"], \"age\", y[\"age\"])"
      ],
      "metadata": {
        "colab": {
          "base_uri": "https://localhost:8080/"
        },
        "id": "p8dZFEH7IiJi",
        "outputId": "9e46d8eb-8fb6-4d6c-9f98-76e2694f4d39"
      },
      "execution_count": 96,
      "outputs": [
        {
          "output_type": "stream",
          "name": "stdout",
          "text": [
            "{'first_name': 'Suraj', 'last_name': 'Jadhav', 'age': 30}\n",
            "first name =  Suraj last name= Jadhav age 30\n"
          ]
        }
      ]
    },
    {
      "cell_type": "code",
      "source": [
        "import time\n",
        "\n",
        "def decorator(func):\n",
        "    def wrapper(*args, **kwargs):                    #returns a new function wrapper\n",
        "        print('function called at:', time.asctime()) #time.asctime is string representing the current time\n",
        "        res = func(*args, **kwargs)                  #prints the timestamp\n",
        "        print('function stopped at:', time.asctime())\n",
        "        return res\n",
        "    return wrapper\n",
        "                                                    #SURAJ JADHAV Q11\n",
        "@decorator\n",
        "def decorated_func(*args, **kwargs):\n",
        "    print('decorated function with args:', args, kwargs)\n",
        "\n",
        "decorated_func(1, 2, a=3, b=4)  #call the decorated function\n"
      ],
      "metadata": {
        "colab": {
          "base_uri": "https://localhost:8080/"
        },
        "id": "0lO2ZSupMQNR",
        "outputId": "951bc011-63df-40e6-bfb9-2730a10669e1"
      },
      "execution_count": 124,
      "outputs": [
        {
          "output_type": "stream",
          "name": "stdout",
          "text": [
            "function called at: Wed Oct 11 01:09:22 2023\n",
            "decorated function with args: (1, 2) {'a': 3, 'b': 4}\n",
            "function stopped at: Wed Oct 11 01:09:22 2023\n"
          ]
        }
      ]
    }
  ]
}